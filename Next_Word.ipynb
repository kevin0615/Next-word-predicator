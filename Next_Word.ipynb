{
  "nbformat": 4,
  "nbformat_minor": 0,
  "metadata": {
    "kernelspec": {
      "display_name": "Python 3",
      "language": "python",
      "name": "python3"
    },
    "language_info": {
      "codemirror_mode": {
        "name": "ipython",
        "version": 3
      },
      "file_extension": ".py",
      "mimetype": "text/x-python",
      "name": "python",
      "nbconvert_exporter": "python",
      "pygments_lexer": "ipython3",
      "version": "3.8.5"
    },
    "colab": {
      "name": "Copy of Next_Word.ipynb",
      "provenance": [],
      "collapsed_sections": []
    },
    "accelerator": "GPU"
  },
  "cells": [
    {
      "cell_type": "code",
      "metadata": {
        "id": "GF8P0R0G7Ffx"
      },
      "source": [
        "import spacy\n",
        "import keras\n",
        "import numpy as np\n",
        "import pandas as pd\n",
        "from random import randint\n",
        "from pickle import dump,load\n",
        "from keras.utils import to_categorical\n",
        "from keras.preprocessing.text import Tokenizer\n",
        "from keras.models import Sequential, load_model\n",
        "from keras import optimizers\n",
        "from keras.layers.core import Dense, Activation, Dropout\n",
        "from keras.layers import LSTM, Embedding, Dense\n",
        "from keras.preprocessing.sequence import pad_sequences\n",
        "import matplotlib.pyplot as plt"
      ],
      "execution_count": 2,
      "outputs": []
    },
    {
      "cell_type": "code",
      "metadata": {
        "colab": {
          "base_uri": "https://localhost:8080/"
        },
        "id": "HZPrVklJ8KE2",
        "outputId": "9fb67413-e4ba-49a5-d1c7-d50d0c06591b"
      },
      "source": [
        "from google.colab import drive\n",
        "drive.mount('/content/drive')"
      ],
      "execution_count": 3,
      "outputs": [
        {
          "output_type": "stream",
          "text": [
            "Mounted at /content/drive\n"
          ],
          "name": "stdout"
        }
      ]
    },
    {
      "cell_type": "markdown",
      "metadata": {
        "id": "neUj-dVPC-zA"
      },
      "source": [
        "# Load data"
      ]
    },
    {
      "cell_type": "markdown",
      "metadata": {
        "id": "VmuDTAs_DIvO"
      },
      "source": [
        "I am using the spam dataset that youn can found in the repository."
      ]
    },
    {
      "cell_type": "code",
      "metadata": {
        "colab": {
          "base_uri": "https://localhost:8080/",
          "height": 204
        },
        "id": "aZJ6wNyh7Ff5",
        "outputId": "0ee0b3c4-8632-45d8-9a0e-7a840954b926"
      },
      "source": [
        "#Import text file\n",
        "text_file = pd.read_csv('/content/drive/My Drive/Colab Notebooks/Word_Predicator/spam.csv', header=0 , names=[\"label\", \"text\"])\n",
        "text_file.head()"
      ],
      "execution_count": 4,
      "outputs": [
        {
          "output_type": "execute_result",
          "data": {
            "text/html": [
              "<div>\n",
              "<style scoped>\n",
              "    .dataframe tbody tr th:only-of-type {\n",
              "        vertical-align: middle;\n",
              "    }\n",
              "\n",
              "    .dataframe tbody tr th {\n",
              "        vertical-align: top;\n",
              "    }\n",
              "\n",
              "    .dataframe thead th {\n",
              "        text-align: right;\n",
              "    }\n",
              "</style>\n",
              "<table border=\"1\" class=\"dataframe\">\n",
              "  <thead>\n",
              "    <tr style=\"text-align: right;\">\n",
              "      <th></th>\n",
              "      <th>label</th>\n",
              "      <th>text</th>\n",
              "    </tr>\n",
              "  </thead>\n",
              "  <tbody>\n",
              "    <tr>\n",
              "      <th>0</th>\n",
              "      <td>ham</td>\n",
              "      <td>Go until jurong point, crazy.. Available only ...</td>\n",
              "    </tr>\n",
              "    <tr>\n",
              "      <th>1</th>\n",
              "      <td>ham</td>\n",
              "      <td>Ok lar... Joking wif u oni...</td>\n",
              "    </tr>\n",
              "    <tr>\n",
              "      <th>2</th>\n",
              "      <td>spam</td>\n",
              "      <td>Free entry in 2 a wkly comp to win FA Cup fina...</td>\n",
              "    </tr>\n",
              "    <tr>\n",
              "      <th>3</th>\n",
              "      <td>ham</td>\n",
              "      <td>U dun say so early hor... U c already then say...</td>\n",
              "    </tr>\n",
              "    <tr>\n",
              "      <th>4</th>\n",
              "      <td>ham</td>\n",
              "      <td>Nah I don't think he goes to usf, he lives aro...</td>\n",
              "    </tr>\n",
              "  </tbody>\n",
              "</table>\n",
              "</div>"
            ],
            "text/plain": [
              "  label                                               text\n",
              "0   ham  Go until jurong point, crazy.. Available only ...\n",
              "1   ham                      Ok lar... Joking wif u oni...\n",
              "2  spam  Free entry in 2 a wkly comp to win FA Cup fina...\n",
              "3   ham  U dun say so early hor... U c already then say...\n",
              "4   ham  Nah I don't think he goes to usf, he lives aro..."
            ]
          },
          "metadata": {
            "tags": []
          },
          "execution_count": 4
        }
      ]
    },
    {
      "cell_type": "markdown",
      "metadata": {
        "id": "LzVWJzsxDi9I"
      },
      "source": [
        "I think it is better to use the text from Ham messages to use words and sentences from legit conversations."
      ]
    },
    {
      "cell_type": "code",
      "metadata": {
        "id": "HcivN5vE7Ff7"
      },
      "source": [
        "#Filter the text to obtain only the ham text messages\n",
        "new = text_file[text_file['label'] == \"ham\"]\n",
        "\n",
        "#Create a big text file\n",
        "text = ' '.join(text_file['text'])"
      ],
      "execution_count": 5,
      "outputs": []
    },
    {
      "cell_type": "markdown",
      "metadata": {
        "id": "XhLPPEpnEQ_M"
      },
      "source": [
        "# Prepare the data"
      ]
    },
    {
      "cell_type": "code",
      "metadata": {
        "id": "1M9mpFX27Ff8"
      },
      "source": [
        "#remove the punctuations\n",
        "#Load spacy vocab\n",
        "nlp = spacy.load('en', disable=['parser', 'tagger','ner'])\n",
        "\n",
        "tokens = [token.text.lower() for token in nlp(text) if token.text not in '\\n\\n \\n\\n\\n!\"-#$%&()--.*+,-/:;<=>?@[\\\\]^_`{|}~\\t\\n n ..']"
      ],
      "execution_count": 6,
      "outputs": []
    },
    {
      "cell_type": "code",
      "metadata": {
        "id": "i2zJYjVN7Ff8"
      },
      "source": [
        "#Previous words to take into account to make the prediction\n",
        "train_len = 10+1 #10 previous words + 1 word to predict\n",
        "\n",
        "#Empty list of training sequence\n",
        "sequence_list = [] "
      ],
      "execution_count": 7,
      "outputs": []
    },
    {
      "cell_type": "code",
      "metadata": {
        "id": "yz3WVXH47Ff8"
      },
      "source": [
        "for i in range(train_len, len(tokens)):\n",
        "    \n",
        "    #Get the training sequence\n",
        "    seq = tokens[i-train_len:i] \n",
        "    \n",
        "    #Add it to the list\n",
        "    sequence_list.append(seq) "
      ],
      "execution_count": 8,
      "outputs": []
    },
    {
      "cell_type": "code",
      "metadata": {
        "colab": {
          "base_uri": "https://localhost:8080/"
        },
        "id": "4IIAmgJz7Ff9",
        "outputId": "c430c306-cf77-4812-92f5-32eeb6c06054"
      },
      "source": [
        "sequence_list[0]"
      ],
      "execution_count": 9,
      "outputs": [
        {
          "output_type": "execute_result",
          "data": {
            "text/plain": [
              "['go',\n",
              " 'until',\n",
              " 'jurong',\n",
              " 'point',\n",
              " 'crazy',\n",
              " 'available',\n",
              " 'only',\n",
              " 'in',\n",
              " 'bugis',\n",
              " 'great',\n",
              " 'world']"
            ]
          },
          "metadata": {
            "tags": []
          },
          "execution_count": 9
        }
      ]
    },
    {
      "cell_type": "code",
      "metadata": {
        "colab": {
          "base_uri": "https://localhost:8080/"
        },
        "id": "ouzSlYY07Ff9",
        "outputId": "ee0929f1-cfd9-4e7d-957a-cfdd9ece76bc"
      },
      "source": [
        "sequence_list[1]"
      ],
      "execution_count": 10,
      "outputs": [
        {
          "output_type": "execute_result",
          "data": {
            "text/plain": [
              "['until',\n",
              " 'jurong',\n",
              " 'point',\n",
              " 'crazy',\n",
              " 'available',\n",
              " 'only',\n",
              " 'in',\n",
              " 'bugis',\n",
              " 'great',\n",
              " 'world',\n",
              " 'la']"
            ]
          },
          "metadata": {
            "tags": []
          },
          "execution_count": 10
        }
      ]
    },
    {
      "cell_type": "code",
      "metadata": {
        "id": "mYC25GTp7Ff-"
      },
      "source": [
        "#encode text sequence to numeric sequence\n",
        "tokenize = Tokenizer()\n",
        "tokenize.fit_on_texts(sequence_list)\n",
        "num_sequence = tokenize.texts_to_sequences(sequence_list)"
      ],
      "execution_count": 11,
      "outputs": []
    },
    {
      "cell_type": "code",
      "metadata": {
        "colab": {
          "base_uri": "https://localhost:8080/"
        },
        "id": "bCyH8Z7H7Ff-",
        "outputId": "99e3bbeb-a3ec-4391-e7b6-8c1f0adce7b1"
      },
      "source": [
        "num_sequence[0]"
      ],
      "execution_count": 12,
      "outputs": [
        {
          "output_type": "execute_result",
          "data": {
            "text/plain": [
              "[53, 468, 9506, 853, 804, 693, 70, 10, 1429, 122, 360]"
            ]
          },
          "metadata": {
            "tags": []
          },
          "execution_count": 12
        }
      ]
    },
    {
      "cell_type": "code",
      "metadata": {
        "colab": {
          "base_uri": "https://localhost:8080/"
        },
        "id": "RKttBEAU7Ff-",
        "outputId": "29c3aae8-2f66-4c96-8eca-f39ddf5da430"
      },
      "source": [
        "len(tokenize.word_counts)"
      ],
      "execution_count": 14,
      "outputs": [
        {
          "output_type": "execute_result",
          "data": {
            "text/plain": [
              "9506"
            ]
          },
          "metadata": {
            "tags": []
          },
          "execution_count": 14
        }
      ]
    },
    {
      "cell_type": "code",
      "metadata": {
        "colab": {
          "base_uri": "https://localhost:8080/"
        },
        "id": "EcEs0nfk7Ff_",
        "outputId": "bfd12254-1a52-47f8-efc1-234b829404aa"
      },
      "source": [
        "len_vocab = len(tokenize.word_counts)\n",
        "len_vocab"
      ],
      "execution_count": 15,
      "outputs": [
        {
          "output_type": "execute_result",
          "data": {
            "text/plain": [
              "9506"
            ]
          },
          "metadata": {
            "tags": []
          },
          "execution_count": 15
        }
      ]
    },
    {
      "cell_type": "code",
      "metadata": {
        "colab": {
          "base_uri": "https://localhost:8080/"
        },
        "id": "Ap8Fz2xZ7Ff_",
        "outputId": "c23aa742-bb9d-491d-a84f-b6d566f5936d"
      },
      "source": [
        "num_sequence = np.array(num_sequence)\n",
        "num_sequence[:5]"
      ],
      "execution_count": 16,
      "outputs": [
        {
          "output_type": "execute_result",
          "data": {
            "text/plain": [
              "array([[  53,  468, 9506,  853,  804,  693,   70,   10, 1429,  122,  360],\n",
              "       [ 468, 9506,  853,  804,  693,   70,   10, 1429,  122,  360, 1273],\n",
              "       [9506,  853,  804,  693,   70,   10, 1429,  122,  360, 1273,  160],\n",
              "       [ 853,  804,  693,   70,   10, 1429,  122,  360, 1273,  160, 2926],\n",
              "       [ 804,  693,   70,   10, 1429,  122,  360, 1273,  160, 2926,    6]])"
            ]
          },
          "metadata": {
            "tags": []
          },
          "execution_count": 16
        }
      ]
    },
    {
      "cell_type": "markdown",
      "metadata": {
        "id": "830_pbtqMM-U"
      },
      "source": [
        "For a better performance, I will use the first 1000 examples."
      ]
    },
    {
      "cell_type": "code",
      "metadata": {
        "id": "4J1dFlU97FgA"
      },
      "source": [
        "# Divide independent and target data\n",
        "X = num_sequence[:,:-1]\n",
        "y = to_categorical(num_sequence[:,-1], num_classes=len_vocab+1)"
      ],
      "execution_count": 17,
      "outputs": []
    },
    {
      "cell_type": "code",
      "metadata": {
        "colab": {
          "base_uri": "https://localhost:8080/"
        },
        "id": "ZW_iZ7gCRcM-",
        "outputId": "d77dac87-7e9c-4ab9-9385-dffb145fd1aa"
      },
      "source": [
        "len(y[0])"
      ],
      "execution_count": 18,
      "outputs": [
        {
          "output_type": "execute_result",
          "data": {
            "text/plain": [
              "9507"
            ]
          },
          "metadata": {
            "tags": []
          },
          "execution_count": 18
        }
      ]
    },
    {
      "cell_type": "code",
      "metadata": {
        "colab": {
          "base_uri": "https://localhost:8080/"
        },
        "id": "1Cst1xBG_LJW",
        "outputId": "610ba7b1-ab20-4921-cd73-424fac14c417"
      },
      "source": [
        "X.shape, y.shape"
      ],
      "execution_count": 19,
      "outputs": [
        {
          "output_type": "execute_result",
          "data": {
            "text/plain": [
              "((89673, 10), (89673, 9507))"
            ]
          },
          "metadata": {
            "tags": []
          },
          "execution_count": 19
        }
      ]
    },
    {
      "cell_type": "code",
      "metadata": {
        "id": "HPTJCLrw_TQz"
      },
      "source": [
        "# Split the data into train validation and test set\n",
        "# 80 - 20 train - test split, and 70 - 30 train - validation split\n",
        "Xtest , Ytest = X[:17935], y[:17935]\n",
        "Xtrain , Ytrain = X[17935:68152], y[17935:68152]\n",
        "Xvalid , Yvalid = X[68152:], y[68152:]"
      ],
      "execution_count": 20,
      "outputs": []
    },
    {
      "cell_type": "code",
      "metadata": {
        "colab": {
          "base_uri": "https://localhost:8080/"
        },
        "id": "jMN5LMg0B9Tk",
        "outputId": "ad064dc5-e538-4abc-f23d-1b377f1c3468"
      },
      "source": [
        "len(Xtest), len(Xtrain), len(Xvalid)"
      ],
      "execution_count": 21,
      "outputs": [
        {
          "output_type": "execute_result",
          "data": {
            "text/plain": [
              "(17935, 50217, 21521)"
            ]
          },
          "metadata": {
            "tags": []
          },
          "execution_count": 21
        }
      ]
    },
    {
      "cell_type": "code",
      "metadata": {
        "colab": {
          "base_uri": "https://localhost:8080/"
        },
        "id": "QIaRAYc87FgA",
        "outputId": "0a79752d-7a09-4313-c6b1-2050d29d3db4"
      },
      "source": [
        "seq_len = X.shape[1]\n",
        "seq_len"
      ],
      "execution_count": 22,
      "outputs": [
        {
          "output_type": "execute_result",
          "data": {
            "text/plain": [
              "10"
            ]
          },
          "metadata": {
            "tags": []
          },
          "execution_count": 22
        }
      ]
    },
    {
      "cell_type": "markdown",
      "metadata": {
        "id": "I0bIael8Ed9Z"
      },
      "source": [
        "# Build a recurrent neural network"
      ]
    },
    {
      "cell_type": "code",
      "metadata": {
        "colab": {
          "base_uri": "https://localhost:8080/"
        },
        "id": "EBzluQLX7FgB",
        "outputId": "93e296f4-c6fd-4a29-e9ac-0cef71044111"
      },
      "source": [
        "# Creating LSTM based model\n",
        "model = Sequential()\n",
        "model.add(Embedding(len_vocab+1, 10, input_length=seq_len))\n",
        "model.add(LSTM(150, return_sequences=True))\n",
        "model.add(LSTM(150))\n",
        "model.add(Dense(150, activation='relu'))\n",
        "model.add(Dense(len_vocab+1, activation='softmax'))\n",
        "\n",
        "model.compile(loss='categorical_crossentropy', optimizer=optimizers.Adam(0.01), metrics=['accuracy'])\n",
        "\n",
        "model.summary()"
      ],
      "execution_count": null,
      "outputs": [
        {
          "output_type": "stream",
          "text": [
            "Model: \"sequential\"\n",
            "_________________________________________________________________\n",
            "Layer (type)                 Output Shape              Param #   \n",
            "=================================================================\n",
            "embedding (Embedding)        (None, 10, 10)            95070     \n",
            "_________________________________________________________________\n",
            "lstm (LSTM)                  (None, 10, 150)           96600     \n",
            "_________________________________________________________________\n",
            "lstm_1 (LSTM)                (None, 150)               180600    \n",
            "_________________________________________________________________\n",
            "dense (Dense)                (None, 150)               22650     \n",
            "_________________________________________________________________\n",
            "dense_1 (Dense)              (None, 9507)              1435557   \n",
            "=================================================================\n",
            "Total params: 1,830,477\n",
            "Trainable params: 1,830,477\n",
            "Non-trainable params: 0\n",
            "_________________________________________________________________\n"
          ],
          "name": "stdout"
        }
      ]
    },
    {
      "cell_type": "markdown",
      "metadata": {
        "id": "G-5PRFT6Eqtj"
      },
      "source": [
        "# Train the model and tune the hyperparameters"
      ]
    },
    {
      "cell_type": "code",
      "metadata": {
        "colab": {
          "base_uri": "https://localhost:8080/"
        },
        "id": "YIkbXfyk7FgB",
        "outputId": "84d2cf47-362d-4db8-b7bf-d120bae1c218"
      },
      "source": [
        "# fit model\n",
        "history = model.fit(Xtrain, Ytrain, batch_size=128, epochs=50, validation_data=(Xvalid, Yvalid))"
      ],
      "execution_count": null,
      "outputs": [
        {
          "output_type": "stream",
          "text": [
            "Epoch 1/50\n",
            "5/5 [==============================] - 4s 195ms/step - loss: 9.0141 - accuracy: 0.0204 - val_loss: 7.2017 - val_accuracy: 0.0583\n",
            "Epoch 2/50\n",
            "5/5 [==============================] - 0s 31ms/step - loss: 6.2286 - accuracy: 0.0237 - val_loss: 7.4765 - val_accuracy: 0.0042\n",
            "Epoch 3/50\n",
            "5/5 [==============================] - 0s 29ms/step - loss: 5.8222 - accuracy: 0.0258 - val_loss: 8.3430 - val_accuracy: 0.0583\n",
            "Epoch 4/50\n",
            "5/5 [==============================] - 0s 29ms/step - loss: 5.5616 - accuracy: 0.0342 - val_loss: 8.4229 - val_accuracy: 0.0625\n",
            "Epoch 5/50\n",
            "5/5 [==============================] - 0s 27ms/step - loss: 5.5493 - accuracy: 0.0394 - val_loss: 8.5427 - val_accuracy: 0.0625\n",
            "Epoch 6/50\n",
            "5/5 [==============================] - 0s 28ms/step - loss: 5.4825 - accuracy: 0.0372 - val_loss: 8.2260 - val_accuracy: 0.0625\n",
            "Epoch 7/50\n",
            "5/5 [==============================] - 0s 27ms/step - loss: 5.4728 - accuracy: 0.0476 - val_loss: 8.4986 - val_accuracy: 0.0625\n",
            "Epoch 8/50\n",
            "5/5 [==============================] - 0s 28ms/step - loss: 5.4734 - accuracy: 0.0386 - val_loss: 8.2376 - val_accuracy: 0.0625\n",
            "Epoch 9/50\n",
            "5/5 [==============================] - 0s 28ms/step - loss: 5.4890 - accuracy: 0.0443 - val_loss: 8.5324 - val_accuracy: 0.0625\n",
            "Epoch 10/50\n",
            "5/5 [==============================] - 0s 29ms/step - loss: 5.4891 - accuracy: 0.0366 - val_loss: 8.3616 - val_accuracy: 0.0625\n",
            "Epoch 11/50\n",
            "5/5 [==============================] - 0s 26ms/step - loss: 5.4590 - accuracy: 0.0405 - val_loss: 8.3444 - val_accuracy: 0.0625\n",
            "Epoch 12/50\n",
            "5/5 [==============================] - 0s 35ms/step - loss: 5.4540 - accuracy: 0.0422 - val_loss: 8.3465 - val_accuracy: 0.0625\n",
            "Epoch 13/50\n",
            "5/5 [==============================] - 0s 33ms/step - loss: 5.4141 - accuracy: 0.0428 - val_loss: 8.1741 - val_accuracy: 0.0625\n",
            "Epoch 14/50\n",
            "5/5 [==============================] - 0s 29ms/step - loss: 5.4049 - accuracy: 0.0480 - val_loss: 8.3229 - val_accuracy: 0.0625\n",
            "Epoch 15/50\n",
            "5/5 [==============================] - 0s 27ms/step - loss: 5.3894 - accuracy: 0.0397 - val_loss: 8.1834 - val_accuracy: 0.0625\n",
            "Epoch 16/50\n",
            "5/5 [==============================] - 0s 27ms/step - loss: 5.3822 - accuracy: 0.0311 - val_loss: 8.8804 - val_accuracy: 0.0625\n",
            "Epoch 17/50\n",
            "5/5 [==============================] - 0s 30ms/step - loss: 5.2204 - accuracy: 0.0447 - val_loss: 9.8104 - val_accuracy: 0.0583\n",
            "Epoch 18/50\n",
            "5/5 [==============================] - 0s 27ms/step - loss: 5.2352 - accuracy: 0.0340 - val_loss: 9.4917 - val_accuracy: 0.0625\n",
            "Epoch 19/50\n",
            "5/5 [==============================] - 0s 27ms/step - loss: 5.1640 - accuracy: 0.0320 - val_loss: 9.1171 - val_accuracy: 0.0625\n",
            "Epoch 20/50\n",
            "5/5 [==============================] - 0s 27ms/step - loss: 5.1165 - accuracy: 0.0394 - val_loss: 9.6343 - val_accuracy: 0.0375\n",
            "Epoch 21/50\n",
            "5/5 [==============================] - 0s 27ms/step - loss: 5.1157 - accuracy: 0.0187 - val_loss: 10.8109 - val_accuracy: 0.0458\n",
            "Epoch 22/50\n",
            "5/5 [==============================] - 0s 26ms/step - loss: 5.0736 - accuracy: 0.0309 - val_loss: 9.7534 - val_accuracy: 0.0417\n",
            "Epoch 23/50\n",
            "5/5 [==============================] - 0s 26ms/step - loss: 5.0186 - accuracy: 0.0459 - val_loss: 10.5271 - val_accuracy: 0.0167\n",
            "Epoch 24/50\n",
            "5/5 [==============================] - 0s 26ms/step - loss: 4.9535 - accuracy: 0.0266 - val_loss: 9.9559 - val_accuracy: 0.0167\n",
            "Epoch 25/50\n",
            "5/5 [==============================] - 0s 28ms/step - loss: 4.7604 - accuracy: 0.0515 - val_loss: 11.2772 - val_accuracy: 0.0208\n",
            "Epoch 26/50\n",
            "5/5 [==============================] - 0s 28ms/step - loss: 4.6363 - accuracy: 0.0437 - val_loss: 12.3035 - val_accuracy: 0.0083\n",
            "Epoch 27/50\n",
            "5/5 [==============================] - 0s 29ms/step - loss: 4.4381 - accuracy: 0.0442 - val_loss: 11.8479 - val_accuracy: 0.0167\n",
            "Epoch 28/50\n",
            "5/5 [==============================] - 0s 28ms/step - loss: 4.3759 - accuracy: 0.0602 - val_loss: 12.9555 - val_accuracy: 0.0167\n",
            "Epoch 29/50\n",
            "5/5 [==============================] - 0s 27ms/step - loss: 4.2690 - accuracy: 0.0633 - val_loss: 13.7543 - val_accuracy: 0.0167\n",
            "Epoch 30/50\n",
            "5/5 [==============================] - 0s 28ms/step - loss: 4.1814 - accuracy: 0.0699 - val_loss: 14.0441 - val_accuracy: 0.0250\n",
            "Epoch 31/50\n",
            "5/5 [==============================] - 0s 27ms/step - loss: 4.1279 - accuracy: 0.0675 - val_loss: 13.7020 - val_accuracy: 0.0125\n",
            "Epoch 32/50\n",
            "5/5 [==============================] - 0s 27ms/step - loss: 3.9936 - accuracy: 0.0761 - val_loss: 14.4565 - val_accuracy: 0.0083\n",
            "Epoch 33/50\n",
            "5/5 [==============================] - 0s 28ms/step - loss: 3.9499 - accuracy: 0.0701 - val_loss: 14.6925 - val_accuracy: 0.0167\n",
            "Epoch 34/50\n",
            "5/5 [==============================] - 0s 28ms/step - loss: 3.8466 - accuracy: 0.0996 - val_loss: 14.8983 - val_accuracy: 0.0083\n",
            "Epoch 35/50\n",
            "5/5 [==============================] - 0s 27ms/step - loss: 3.6936 - accuracy: 0.1175 - val_loss: 15.3946 - val_accuracy: 0.0083\n",
            "Epoch 36/50\n",
            "5/5 [==============================] - 0s 27ms/step - loss: 3.6779 - accuracy: 0.0874 - val_loss: 15.6735 - val_accuracy: 0.0083\n",
            "Epoch 37/50\n",
            "5/5 [==============================] - 0s 27ms/step - loss: 3.5067 - accuracy: 0.1398 - val_loss: 16.4646 - val_accuracy: 0.0042\n",
            "Epoch 38/50\n",
            "5/5 [==============================] - 0s 26ms/step - loss: 3.3761 - accuracy: 0.1514 - val_loss: 17.2104 - val_accuracy: 0.0167\n",
            "Epoch 39/50\n",
            "5/5 [==============================] - 0s 28ms/step - loss: 3.2381 - accuracy: 0.1609 - val_loss: 17.7623 - val_accuracy: 0.0083\n",
            "Epoch 40/50\n",
            "5/5 [==============================] - 0s 27ms/step - loss: 3.2172 - accuracy: 0.1505 - val_loss: 17.9981 - val_accuracy: 0.0042\n",
            "Epoch 41/50\n",
            "5/5 [==============================] - 0s 28ms/step - loss: 3.0605 - accuracy: 0.1707 - val_loss: 18.2156 - val_accuracy: 0.0042\n",
            "Epoch 42/50\n",
            "5/5 [==============================] - 0s 29ms/step - loss: 2.9581 - accuracy: 0.1551 - val_loss: 17.9505 - val_accuracy: 0.0042\n",
            "Epoch 43/50\n",
            "5/5 [==============================] - 0s 26ms/step - loss: 2.8740 - accuracy: 0.2075 - val_loss: 19.1311 - val_accuracy: 0.0208\n",
            "Epoch 44/50\n",
            "5/5 [==============================] - 0s 27ms/step - loss: 2.7139 - accuracy: 0.2014 - val_loss: 19.6580 - val_accuracy: 0.0125\n",
            "Epoch 45/50\n",
            "5/5 [==============================] - 0s 27ms/step - loss: 2.6857 - accuracy: 0.1917 - val_loss: 20.0252 - val_accuracy: 0.0167\n",
            "Epoch 46/50\n",
            "5/5 [==============================] - 0s 26ms/step - loss: 2.5473 - accuracy: 0.2445 - val_loss: 20.7959 - val_accuracy: 0.0208\n",
            "Epoch 47/50\n",
            "5/5 [==============================] - 0s 27ms/step - loss: 2.4599 - accuracy: 0.2647 - val_loss: 21.3541 - val_accuracy: 0.0083\n",
            "Epoch 48/50\n",
            "5/5 [==============================] - 0s 27ms/step - loss: 2.3479 - accuracy: 0.2867 - val_loss: 22.1512 - val_accuracy: 0.0083\n",
            "Epoch 49/50\n",
            "5/5 [==============================] - 0s 26ms/step - loss: 2.3532 - accuracy: 0.2834 - val_loss: 22.4339 - val_accuracy: 0.0000e+00\n",
            "Epoch 50/50\n",
            "5/5 [==============================] - 0s 26ms/step - loss: 2.2505 - accuracy: 0.3185 - val_loss: 22.7430 - val_accuracy: 0.0125\n"
          ],
          "name": "stdout"
        }
      ]
    },
    {
      "cell_type": "code",
      "metadata": {
        "colab": {
          "base_uri": "https://localhost:8080/",
          "height": 295
        },
        "id": "L-w-bN5F7FgC",
        "outputId": "005f8f2b-db33-4090-9db3-d96c0d98a583"
      },
      "source": [
        "loss = history.history['loss']\n",
        "val_loss = history.history['val_loss']\n",
        "epochs = range(1, len(loss) + 1)\n",
        "plt.plot(epochs,loss, 'bo', label='Training loss') #blue dots\n",
        "plt.plot(epochs,val_loss, 'b', label='Validation loss') #blue line\n",
        "plt.title('Training and validation loss')\n",
        "plt.xlabel('Epochs')\n",
        "plt.ylabel('Loss')\n",
        "plt.legend()\n",
        "plt.show()"
      ],
      "execution_count": null,
      "outputs": [
        {
          "output_type": "display_data",
          "data": {
            "image/png": "[encoded data removed]",
            "text/plain": [
              "<Figure size 432x288 with 1 Axes>"
            ]
          },
          "metadata": {
            "tags": [],
            "needs_background": "light"
          }
        }
      ]
    },
    {
      "cell_type": "code",
      "metadata": {
        "colab": {
          "base_uri": "https://localhost:8080/",
          "height": 295
        },
        "id": "noU8CNzCC2MG",
        "outputId": "e1288f7a-aa0f-473d-cb9d-601705689cb9"
      },
      "source": [
        "acc = history.history['accuracy']\n",
        "val_acc = history.history['val_accuracy']\n",
        "epochs = range(1, len(acc) + 1)\n",
        "plt.plot(epochs,acc, 'bo', label='Training accuracy') #blue dots\n",
        "plt.plot(epochs,val_acc, 'b', label='Validation accuracy') #blue line\n",
        "plt.title('Training and validation accuracy')\n",
        "plt.xlabel('Epochs')\n",
        "plt.ylabel('Accuracy')\n",
        "plt.legend()\n",
        "plt.show()"
      ],
      "execution_count": null,
      "outputs": [
        {
          "output_type": "display_data",
          "data": {
            "image/png": "[encoded data removed]",
            "text/plain": [
              "<Figure size 432x288 with 1 Axes>"
            ]
          },
          "metadata": {
            "tags": [],
            "needs_background": "light"
          }
        }
      ]
    },
    {
      "cell_type": "markdown",
      "metadata": {
        "id": "XAJd8t-Vgm9Q"
      },
      "source": [
        "We can see that the model is not performant enough."
      ]
    },
    {
      "cell_type": "code",
      "metadata": {
        "id": "D4IPaoTtLpqx"
      },
      "source": [
        ""
      ],
      "execution_count": null,
      "outputs": []
    }
  ]
}